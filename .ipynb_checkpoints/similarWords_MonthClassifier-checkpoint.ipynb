{
 "cells": [
  {
   "cell_type": "code",
   "execution_count": 164,
   "metadata": {
    "collapsed": true
   },
   "outputs": [],
   "source": [
    "import difflib"
   ]
  },
  {
   "cell_type": "code",
   "execution_count": 165,
   "metadata": {
    "collapsed": true
   },
   "outputs": [],
   "source": [
    "list1 = ['enero',\n",
    "        'febrero',\n",
    "        'marzo',\n",
    "        'abril',\n",
    "        'mayo',\n",
    "        'junio',\n",
    "        'julio',\n",
    "        'agosto',\n",
    "        'septiembre',\n",
    "        'octubre',\n",
    "        'noviembre',\n",
    "        'diciembre']"
   ]
  },
  {
   "cell_type": "code",
   "execution_count": 166,
   "metadata": {
    "collapsed": true
   },
   "outputs": [],
   "source": [
    "list2 = ['ene',\n",
    "        'feb',\n",
    "        'mar',\n",
    "        'abr',\n",
    "        'jun',\n",
    "        'jul',\n",
    "        'ago',\n",
    "        'sep',\n",
    "        'oct',\n",
    "        'nov',\n",
    "        'dic'\n",
    "]"
   ]
  },
  {
   "cell_type": "code",
   "execution_count": 167,
   "metadata": {
    "collapsed": true
   },
   "outputs": [],
   "source": [
    "list3 = ['january',\n",
    "        'february',\n",
    "        'march',\n",
    "        'april',\n",
    "        'may',\n",
    "        'june',\n",
    "        'july',\n",
    "        'august',\n",
    "        'september',\n",
    "        'october',\n",
    "        'november',\n",
    "        'december']"
   ]
  },
  {
   "cell_type": "code",
   "execution_count": 173,
   "metadata": {
    "collapsed": true
   },
   "outputs": [],
   "source": [
    "def valida_mes(mes):\n",
    "    val1 = difflib.get_close_matches(mes, list1)\n",
    "    val2 = difflib.get_close_matches(mes, list2)\n",
    "    val3 = difflib.get_close_matches(mes, list3)\n",
    "#     if len(val1) > 1:\n",
    "#         print(\"A que mes te refieres?\")\n",
    "#         print(\" o \".join([str(x) for x in val1]),\"?\")\n",
    "#     if len(val2) > 1:\n",
    "#         print(\" o \".join([str(x) for x in val2]),\"?\")\n",
    "#         print(\"A que mes te refieres?\")\n",
    "#     if len(val3) > 1:\n",
    "#         print(\"A que mes te refieres?\")\n",
    "#         print(\" o \".join([str(x) for x in val3]),\"?\")\n",
    "#     if len(val1) > 1 and len(val2) > 0:\n",
    "#     result = val1, val2, val3\n",
    "    return val1, val2, val3"
   ]
  },
  {
   "cell_type": "code",
   "execution_count": 176,
   "metadata": {},
   "outputs": [
    {
     "name": "stdout",
     "output_type": "stream",
     "text": [
      "(['noviembre'], [], ['november'])\n"
     ]
    }
   ],
   "source": [
    "mes = 'novembre'\n",
    "result = valida_mes(mes)\n",
    "print(result)"
   ]
  },
  {
   "cell_type": "code",
   "execution_count": 177,
   "metadata": {},
   "outputs": [
    {
     "name": "stdout",
     "output_type": "stream",
     "text": [
      "noviembre\n"
     ]
    }
   ],
   "source": [
    "guessed_month = result[0][0]\n",
    "print(guessed_month)"
   ]
  },
  {
   "cell_type": "code",
   "execution_count": 1,
   "metadata": {
    "collapsed": true
   },
   "outputs": [],
   "source": [
    "#----------------------using-a-dictionary-of-lists------------------------"
   ]
  },
  {
   "cell_type": "code",
   "execution_count": 61,
   "metadata": {
    "collapsed": true
   },
   "outputs": [],
   "source": [
    "from collections import defaultdict"
   ]
  },
  {
   "cell_type": "code",
   "execution_count": 110,
   "metadata": {},
   "outputs": [],
   "source": [
    "months_list = [\n",
    "('01',    'enero'     ),\n",
    "('02',    'febrero'   ),\n",
    "('03',    'marzo'     ),\n",
    "('04',    'abril'     ),\n",
    "('05',    'mayo'      ),\n",
    "('06',    'junio'     ),\n",
    "('07',    'julio'     ),\n",
    "('08',    'agosto'    ),\n",
    "('09',    'septiembre'),\n",
    "('10',    'octubre'   ),\n",
    "('11',    'noviembre' ),\n",
    "('12',    'diciembre' ),\n",
    "('01',    'ene'       ),\n",
    "('02',    'feb'       ),\n",
    "('03',    'mar'       ),\n",
    "('04',    'abr'       ),\n",
    "('05',    'may'       ),\n",
    "('06',    'jun'       ),\n",
    "('07',    'jul'       ),\n",
    "('08',    'ago'       ),\n",
    "('09',    'sep'       ),\n",
    "('10',    'oct'       ),\n",
    "('11',    'nov'       ),\n",
    "('12',    'dec'       ),\n",
    "('01',    'january'   ),\n",
    "('02',    'february'  ),\n",
    "('03',    'march'     ),\n",
    "('04',    'april'     ),\n",
    "('05',    'may'       ),\n",
    "('06',    'june'      ),\n",
    "('07',    'july'      ),\n",
    "('08',    'august'    ),\n",
    "('09',    'september' ),\n",
    "('10',    'october'   ),\n",
    "('11',    'november'  ),\n",
    "('12',    'december'  ),\n",
    "]\n",
    "\n",
    "month_dic = defaultdict(list)"
   ]
  },
  {
   "cell_type": "code",
   "execution_count": 111,
   "metadata": {},
   "outputs": [],
   "source": [
    "for k, v in months_list:\n",
    "    month_dic[k].append(v)"
   ]
  },
  {
   "cell_type": "code",
   "execution_count": 112,
   "metadata": {},
   "outputs": [
    {
     "data": {
      "text/plain": [
       "dict_items([('01', ['enero', 'ene', 'january']), ('02', ['febrero', 'feb', 'february']), ('03', ['marzo', 'mar', 'march']), ('04', ['abril', 'abr', 'april']), ('05', ['mayo', 'may', 'may']), ('06', ['junio', 'jun', 'june']), ('07', ['julio', 'jul', 'july']), ('08', ['agosto', 'ago', 'august']), ('09', ['septiembre', 'sep', 'september']), ('10', ['octubre', 'oct', 'october']), ('11', ['noviembre', 'nov', 'november']), ('12', ['diciembre', 'dec', 'december'])])"
      ]
     },
     "execution_count": 112,
     "metadata": {},
     "output_type": "execute_result"
    }
   ],
   "source": [
    "month_dic.items()"
   ]
  },
  {
   "cell_type": "code",
   "execution_count": 113,
   "metadata": {
    "collapsed": true
   },
   "outputs": [],
   "source": [
    "from difflib import get_close_matches"
   ]
  },
  {
   "cell_type": "code",
   "execution_count": 133,
   "metadata": {},
   "outputs": [],
   "source": [
    "def matches(text):\n",
    "    keys = month_dic.keys()\n",
    "    values = month_dic.values()\n",
    "    match = get_close_matches(text, month_dic.values())\n",
    "    return month_dic.keys(), values, keys"
   ]
  },
  {
   "cell_type": "code",
   "execution_count": 134,
   "metadata": {},
   "outputs": [
    {
     "name": "stdout",
     "output_type": "stream",
     "text": [
      "(dict_keys(['01', '02', '03', '04', '05', '06', '07', '08', '09', '10', '11', '12']), dict_values([['enero', 'ene', 'january'], ['febrero', 'feb', 'february'], ['marzo', 'mar', 'march'], ['abril', 'abr', 'april'], ['mayo', 'may', 'may'], ['junio', 'jun', 'june'], ['julio', 'jul', 'july'], ['agosto', 'ago', 'august'], ['septiembre', 'sep', 'september'], ['octubre', 'oct', 'october'], ['noviembre', 'nov', 'november'], ['diciembre', 'dec', 'december']]), dict_keys(['01', '02', '03', '04', '05', '06', '07', '08', '09', '10', '11', '12']))\n"
     ]
    }
   ],
   "source": [
    "month = 'nov'\n",
    "print(matches(month))"
   ]
  },
  {
   "cell_type": "code",
   "execution_count": 136,
   "metadata": {},
   "outputs": [
    {
     "name": "stdout",
     "output_type": "stream",
     "text": [
      "firstName\n"
     ]
    }
   ],
   "source": [
    "#Just an example how the dictionary may look like\n",
    "myDict = {'age': ['12'], 'address': ['34 Main Street, 212 First Avenue'],\n",
    "      'firstName': ['Alan', 'Mary-Ann'], 'lastName': ['Stone', 'Lee']}\n",
    "\n",
    "def search(values, searchFor):\n",
    "    for k in values:\n",
    "        for v in values[k]:\n",
    "            if searchFor in v:\n",
    "                return k\n",
    "    return None\n",
    "\n",
    "#Checking if string 'Mary' exists in dictionary value\n",
    "print(search(myDict, 'Mary')) #prints firstName"
   ]
  },
  {
   "cell_type": "code",
   "execution_count": null,
   "metadata": {},
   "outputs": [],
   "source": [
    "import difflib\n",
    "import operator\n",
    "\n",
    "def mes_filtro(text):\n",
    "    month_dict ={\n",
    "    'enero':  ['enero', 'ene', 'january'], \n",
    "    'febrero':  ['febrero', 'feb', 'february'], \n",
    "    'marzo':  ['marzo', 'mar', 'march'], \n",
    "    'abril':  ['abril', 'abr', 'april'], \n",
    "    'mayo':  ['mayo', 'may', 'may'], \n",
    "    'junio':  ['junio', 'jun', 'june'], \n",
    "    'julio':  ['julio', 'jul', 'july'], \n",
    "    'agosto':  ['agosto', 'ago', 'august'], \n",
    "    'septiembre':  ['septiembre', 'sep', 'september'], \n",
    "    'octubre': ['octubre', 'oct', 'october'], \n",
    "    'noviembre': ['noviembre', 'nov', 'november'], \n",
    "    'diciembre': ['diciembre', 'dic', 'december']\n",
    "    }\n",
    "    \n",
    "    month_key = list(month_dict.keys())\n",
    "    month_name = list(month_dict.values())\n",
    "    month_dict_match = {month_key[i]:difflib.get_close_matches(text, month_name[i])\n",
    "         for i in range(len(month_key))}\n",
    "    \n",
    "    reduced_month_dict = {k: v for k, v in month_dict_match.items() if v}\n",
    "    \n",
    "    pct_match = []\n",
    "    month_match = {}\n",
    "    \n",
    "    for i in reduced_month_dict.values():\n",
    "        l = difflib.SequenceMatcher(None, text, i[0]).ratio()*100\n",
    "        pct_match.append(l)\n",
    "        match_dict = {i[0]:l}\n",
    "        month_match.update(match_dict)\n",
    "        \n",
    "    closest_match = max(month_match, key=month_match.get)\n",
    "#     print(month_match)\n",
    "    \n",
    "    reverse_index = {}\n",
    "    \n",
    "    for month_key, values in month_dict.items():\n",
    "        if closest_match in values:\n",
    "            break\n",
    "    return month_key\n",
    "\n",
    "text = \"feb\"\n",
    "lower_text = text.lower()\n",
    "d = mes_filtro(lower_text)\n",
    "\n",
    "print(d)"
   ]
  },
  {
   "cell_type": "code",
   "execution_count": null,
   "metadata": {
    "collapsed": true
   },
   "outputs": [],
   "source": []
  }
 ],
 "metadata": {
  "kernelspec": {
   "display_name": "Python 3",
   "language": "python",
   "name": "python3"
  },
  "language_info": {
   "codemirror_mode": {
    "name": "ipython",
    "version": 3
   },
   "file_extension": ".py",
   "mimetype": "text/x-python",
   "name": "python",
   "nbconvert_exporter": "python",
   "pygments_lexer": "ipython3",
   "version": "3.6.1"
  }
 },
 "nbformat": 4,
 "nbformat_minor": 2
}
