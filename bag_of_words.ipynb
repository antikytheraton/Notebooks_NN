{
 "cells": [
  {
   "cell_type": "code",
   "execution_count": 56,
   "metadata": {},
   "outputs": [],
   "source": [
    "# Algoritmo de bag of words\n",
    "import numpy as np\n",
    "\n",
    "class BoW():\n",
    "    \n",
    "    def __init__(self, text):\n",
    "        self.text = text\n",
    "    \n",
    "    def make_bag(self):\n",
    "        words=list(set(self.text.split(\" \")))\n",
    "        self.vectorizer = {}\n",
    "        self.len = len(words)\n",
    "        for pair in enumerate(words):\n",
    "            self.vectorizer[pair[1]] = pair[0]\n",
    "        return self.vectorizer\n",
    "    \n",
    "    def give_vector(self, text):\n",
    "        vector = np.zeros(self.len)\n",
    "        for word in text.split(\" \"):\n",
    "            if word in self.vectorizer.keys():\n",
    "                vector[self.vectorizer[word]] += 1\n",
    "        return vector"
   ]
  },
  {
   "cell_type": "code",
   "execution_count": 57,
   "metadata": {
    "scrolled": true
   },
   "outputs": [
    {
     "name": "stdout",
     "output_type": "stream",
     "text": [
      "{'Anita': 0, 'lava': 1, 'tina': 2, 'la': 3}\n"
     ]
    }
   ],
   "source": [
    "bow = BoW(\"Anita lava la tina\")\n",
    "print(bow.make_bag())"
   ]
  },
  {
   "cell_type": "code",
   "execution_count": 58,
   "metadata": {
    "scrolled": true
   },
   "outputs": [
    {
     "name": "stdout",
     "output_type": "stream",
     "text": [
      "[ 0.  0.  1.  1.]\n"
     ]
    }
   ],
   "source": [
    "print(bow.give_vector(\"la tina\"))"
   ]
  },
  {
   "cell_type": "code",
   "execution_count": null,
   "metadata": {
    "collapsed": true
   },
   "outputs": [],
   "source": []
  }
 ],
 "metadata": {
  "kernelspec": {
   "display_name": "Python 3",
   "language": "python",
   "name": "python3"
  },
  "language_info": {
   "codemirror_mode": {
    "name": "ipython",
    "version": 3
   },
   "file_extension": ".py",
   "mimetype": "text/x-python",
   "name": "python",
   "nbconvert_exporter": "python",
   "pygments_lexer": "ipython3",
   "version": "3.6.1"
  }
 },
 "nbformat": 4,
 "nbformat_minor": 2
}
