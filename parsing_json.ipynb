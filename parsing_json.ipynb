{
 "cells": [
  {
   "cell_type": "code",
   "execution_count": 2,
   "metadata": {
    "collapsed": true
   },
   "outputs": [],
   "source": [
    "import json"
   ]
  },
  {
   "cell_type": "code",
   "execution_count": 8,
   "metadata": {
    "collapsed": true
   },
   "outputs": [],
   "source": [
    "location = {\n",
    "    \"object\":\"page\",\n",
    "    \"entry\":[{\n",
    "        \"id\":\"190769234657522\",\n",
    "        \"time\":1496246069754,\n",
    "        \"messaging\":[{\n",
    "            \"sender\":{\n",
    "            \"id\":\"1676225639073005\"\n",
    "            },\n",
    "            \"recipient\":{\n",
    "                \"id\":\"190769234657522\"\n",
    "            },\n",
    "            \"timestamp\":1496246069572,\n",
    "            \"message\":{\n",
    "                \"mid\":\"mid.$cAAD3dUocz0pikHxxRFcXzclMuTu9\",\n",
    "                \"seq\":47840,\n",
    "                \"attachments\":[{\n",
    "                    \"title\":\"Aaron's Location\",\n",
    "                    \"url\":\"https:\\/\\/l.facebook.com\\/l.php?u=https\\u00253A\\u00252F\\u00252Fwww.bing.com\\u00252Fmaps\\u00252Fdefault.aspx\\u00253Fv\\u00253D2\\u002526pc\\u00253DFACEBK\\u002526mid\\u00253D8100\\u002526where1\\u00253D19.296325\\u0025252C\\u00252B-99.185536\\u002526FORM\\u00253DFBKPL1\\u002526mkt\\u00253Den-US&h=ATM4pUBIyZfbsoM5CFIdwHiVR3mAqauGNTIl39qrGF4sImCN_hw9FzN79RsjqjrCaKN_c9Z9oF3j-UdzxtuRERPYBhsy8PeSrk2KA_2BcAqbCYxj_w&s=1&enc=AZNEXkf4PdPzER_zoulrRdNSbaOIqpjFqtwxuMeb6r9hR5gvVKR_sgPJpUQz9vxwqSLrNEiyCbh4oCLDRlcMGZun\",\n",
    "                    \"type\":\"location\",\n",
    "                    \"payload\":{\n",
    "                        \"coordinates\":{\n",
    "                            \"lat\":19.296325,\n",
    "                            \"long\":-99.185536\n",
    "                            }\n",
    "                        }\n",
    "                    }]\n",
    "                }\n",
    "            }]\n",
    "        }]\n",
    "    }"
   ]
  },
  {
   "cell_type": "code",
   "execution_count": 9,
   "metadata": {},
   "outputs": [
    {
     "ename": "TypeError",
     "evalue": "expected str, bytes or os.PathLike object, not dict",
     "output_type": "error",
     "traceback": [
      "\u001b[0;31m---------------------------------------------------------------------------\u001b[0m",
      "\u001b[0;31mTypeError\u001b[0m                                 Traceback (most recent call last)",
      "\u001b[0;32m<ipython-input-9-227feacef1cc>\u001b[0m in \u001b[0;36m<module>\u001b[0;34m()\u001b[0m\n\u001b[0;32m----> 1\u001b[0;31m \u001b[0mjson_data\u001b[0m\u001b[0;34m=\u001b[0m\u001b[0mopen\u001b[0m\u001b[0;34m(\u001b[0m\u001b[0mlocation\u001b[0m\u001b[0;34m)\u001b[0m\u001b[0;34m.\u001b[0m\u001b[0mread\u001b[0m\u001b[0;34m(\u001b[0m\u001b[0;34m)\u001b[0m\u001b[0;34m\u001b[0m\u001b[0m\n\u001b[0m\u001b[1;32m      2\u001b[0m \u001b[0;34m\u001b[0m\u001b[0m\n\u001b[1;32m      3\u001b[0m \u001b[0mdata\u001b[0m \u001b[0;34m=\u001b[0m \u001b[0mjson\u001b[0m\u001b[0;34m.\u001b[0m\u001b[0mloads\u001b[0m\u001b[0;34m(\u001b[0m\u001b[0mlocation\u001b[0m\u001b[0;34m)\u001b[0m\u001b[0;34m\u001b[0m\u001b[0m\n\u001b[1;32m      4\u001b[0m \u001b[0mpprint\u001b[0m\u001b[0;34m(\u001b[0m\u001b[0mdata\u001b[0m\u001b[0;34m)\u001b[0m\u001b[0;34m\u001b[0m\u001b[0m\n",
      "\u001b[0;31mTypeError\u001b[0m: expected str, bytes or os.PathLike object, not dict"
     ]
    }
   ],
   "source": [
    "json_data=open(location).read()\n",
    "\n",
    "data = json.loads(location)\n",
    "pprint(data)"
   ]
  },
  {
   "cell_type": "code",
   "execution_count": null,
   "metadata": {
    "collapsed": true
   },
   "outputs": [],
   "source": []
  }
 ],
 "metadata": {
  "kernelspec": {
   "display_name": "Python 3",
   "language": "python",
   "name": "python3"
  },
  "language_info": {
   "codemirror_mode": {
    "name": "ipython",
    "version": 3
   },
   "file_extension": ".py",
   "mimetype": "text/x-python",
   "name": "python",
   "nbconvert_exporter": "python",
   "pygments_lexer": "ipython3",
   "version": "3.6.1"
  }
 },
 "nbformat": 4,
 "nbformat_minor": 2
}
